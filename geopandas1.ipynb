{
 "cells": [
  {
   "cell_type": "code",
   "execution_count": null,
   "metadata": {},
   "outputs": [],
   "source": [
    "import geopandas as gpd\n",
    "import pandas as pd"
   ]
  },
  {
   "cell_type": "code",
   "execution_count": 16,
   "metadata": {},
   "outputs": [
    {
     "name": "stderr",
     "output_type": "stream",
     "text": [
      "<>:2: SyntaxWarning: invalid escape sequence '\\d'\n",
      "<>:2: SyntaxWarning: invalid escape sequence '\\d'\n",
      "C:\\Users\\User\\AppData\\Local\\Temp\\ipykernel_9056\\2602634060.py:2: SyntaxWarning: invalid escape sequence '\\d'\n",
      "  shapefile = \".venv\\data\\malaysia_singapore_brunei_Malaysia_Singapore_Country_Boundary_MAPOG\\malaysia_singapore_brunei_Malaysia_Singapore_Country_Boundary.shp\"\n"
     ]
    },
    {
     "data": {
      "text/html": [
       "<div>\n",
       "<style scoped>\n",
       "    .dataframe tbody tr th:only-of-type {\n",
       "        vertical-align: middle;\n",
       "    }\n",
       "\n",
       "    .dataframe tbody tr th {\n",
       "        vertical-align: top;\n",
       "    }\n",
       "\n",
       "    .dataframe thead th {\n",
       "        text-align: right;\n",
       "    }\n",
       "</style>\n",
       "<table border=\"1\" class=\"dataframe\">\n",
       "  <thead>\n",
       "    <tr style=\"text-align: right;\">\n",
       "      <th></th>\n",
       "      <th>shape0</th>\n",
       "      <th>shapeiso</th>\n",
       "      <th>shapeid</th>\n",
       "      <th>shapegroup</th>\n",
       "      <th>shapetype</th>\n",
       "      <th>geometry</th>\n",
       "    </tr>\n",
       "  </thead>\n",
       "  <tbody>\n",
       "    <tr>\n",
       "      <th>0</th>\n",
       "      <td>Nation of Brunei, the Abode of Peace</td>\n",
       "      <td>BRN</td>\n",
       "      <td>62549738B64764466122357</td>\n",
       "      <td>BRN</td>\n",
       "      <td>ADM0</td>\n",
       "      <td>MULTIPOLYGON (((115.04961 4.89622, 115.05064 4...</td>\n",
       "    </tr>\n",
       "    <tr>\n",
       "      <th>1</th>\n",
       "      <td>Malaysia</td>\n",
       "      <td>MYS</td>\n",
       "      <td>87038898B63284295545115</td>\n",
       "      <td>MYS</td>\n",
       "      <td>ADM0</td>\n",
       "      <td>MULTIPOLYGON (((103.4266 1.30902, 103.42086 1....</td>\n",
       "    </tr>\n",
       "  </tbody>\n",
       "</table>\n",
       "</div>"
      ],
      "text/plain": [
       "                                 shape0 shapeiso                  shapeid  \\\n",
       "0  Nation of Brunei, the Abode of Peace      BRN  62549738B64764466122357   \n",
       "1                              Malaysia      MYS  87038898B63284295545115   \n",
       "\n",
       "  shapegroup shapetype                                           geometry  \n",
       "0        BRN      ADM0  MULTIPOLYGON (((115.04961 4.89622, 115.05064 4...  \n",
       "1        MYS      ADM0  MULTIPOLYGON (((103.4266 1.30902, 103.42086 1....  "
      ]
     },
     "execution_count": 16,
     "metadata": {},
     "output_type": "execute_result"
    }
   ],
   "source": [
    "#to read shape file\n",
    "shapefile = \".venv\\data\\malaysia_singapore_brunei_Malaysia_Singapore_Country_Boundary_MAPOG\\malaysia_singapore_brunei_Malaysia_Singapore_Country_Boundary.shp\"\n",
    "shapefile_gdf = gpd.read_file(shapefile)\n",
    "shapefile_gdf.head()"
   ]
  },
  {
   "cell_type": "code",
   "execution_count": null,
   "metadata": {},
   "outputs": [],
   "source": [
    "shapefile_gdf.explore()"
   ]
  }
 ],
 "metadata": {
  "kernelspec": {
   "display_name": ".venv",
   "language": "python",
   "name": "python3"
  },
  "language_info": {
   "codemirror_mode": {
    "name": "ipython",
    "version": 3
   },
   "file_extension": ".py",
   "mimetype": "text/x-python",
   "name": "python",
   "nbconvert_exporter": "python",
   "pygments_lexer": "ipython3",
   "version": "3.13.2"
  }
 },
 "nbformat": 4,
 "nbformat_minor": 2
}
